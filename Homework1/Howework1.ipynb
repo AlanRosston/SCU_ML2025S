{
 "cells": [
  {
   "cell_type": "markdown",
   "id": "74650061b9f7b093",
   "metadata": {},
   "source": [
    "# Homework 1 - Lab Practical 1.0 Introduction\n",
    "## Task 1 Jupyter Notebook and Miniconda\n",
    "\n",
    "The environment used is Ubuntu 20.04 LTS, Python 3.8.10, Jupyter Notebook 6.4.5, with Miniconda version Miniconda3-py38_4.9.2-Linux-x86_64.sh installed.\n",
    "The IDE used is PyCharm 2025.1 Professional with Python version 3.12.0.\n",
    "\n",
    "In this lab, we first install `Miniconda` using the `sudo apt install miniconda` command. Then we create a virtual environment named `ML`, and install `Jupyter Notebook` and other necessary libraries in this environment.\n",
    "Next, we create a folder named `Homework1` and create a Jupyter Notebook file named `Homework1.ipynb` in it.\n",
    "Now, let's start Jupyter Notebook to begin our work."
   ]
  },
  {
   "cell_type": "markdown",
   "id": "561af80611e5811d",
   "metadata": {},
   "source": [
    "## Task 2 Jupyter Notebook Basic Operations\n",
    "In Jupyter Notebook, we can use Markdown syntax to write formatted text content. Markdown is a lightweight markup language that allows us to format text using simple symbols and commands.\n",
    "\n",
    "Additionally, we can use Python code cells to write and execute Python code. Code cells start with `#%%`, indicating this is an executable code block.\n",
    "\n",
    "Use `Ctrl+Enter` to execute the current code cell, use `Shift+Enter` to execute the current code cell and jump to the next cell."
   ]
  },
  {
   "cell_type": "markdown",
   "id": "f08e0d05b9349034",
   "metadata": {},
   "source": [
    "## Task 3 Python Fundamentals\n",
    "The following sections demonstrate basic Python operations and programming concepts.\n",
    "### Exercise 1 - BMI Calculator\n",
    "This exercise demonstrates basic input/output operations and mathematical calculations in Python."
   ]
  },
  {
   "cell_type": "code",
   "id": "cdfa6955012cb5a9",
   "metadata": {},
   "source": [
    "# BMI Calculator\n",
    "Weight = float(input(\"Weight:\"))\n",
    "Height = float(input(\"Height:\"))\n",
    "BMI = Weight / (Height * Height)\n",
    "print(f\"Your BMI is: {BMI}\")"
   ],
   "outputs": [],
   "execution_count": null
  },
  {
   "metadata": {},
   "cell_type": "markdown",
   "source": [
    "### Exercise 2 - Control Structures and Data Validation\n",
    "This exercise demonstrates loops, conditional statements, and input validation techniques."
   ],
   "id": "ebc5abddad625b08"
  },
  {
   "metadata": {},
   "cell_type": "code",
   "source": [
    "# Basic Structures\n",
    "# Determine the total bill for a number of items and keep track\n",
    "# of the number of items in different price ranges\n",
    "\n",
    "new_item = 'y'\n",
    "total = 0\n",
    "num_under_10 = 0\n",
    "num_10to20 = 0\n",
    "num_over_20 = 0\n",
    "item_count = 0  # Add counter to track number of items\n",
    "\n",
    "while new_item == 'y' or new_item == 'Y':\n",
    "    # Price validation loop: ensure user enters positive numbers\n",
    "    while True:\n",
    "        price = float(input(\"Please enter the price of the item: \"))\n",
    "        if price > 0:\n",
    "            break  # Price is positive, exit validation loop\n",
    "        else:\n",
    "            print(\"Price must be positive. Please enter a positive value.\")\n",
    "\n",
    "    # Categorize by price range\n",
    "    if price < 10:\n",
    "        num_under_10 = num_under_10 + 1\n",
    "    elif price < 20:\n",
    "        num_10to20 = num_10to20 + 1\n",
    "    else:\n",
    "        num_over_20 = num_over_20 + 1\n",
    "\n",
    "    total = total + price\n",
    "    item_count = item_count + 1  # Increment item count\n",
    "\n",
    "    new_item = input('Do you have another item? ' +\n",
    "                     '(Enter y for yes): ')\n",
    "\n",
    "# Calculate and display results\n",
    "print(f\"\\nTotal bill: ${total:.2f}\")\n",
    "print(f\"Number of items under $10: {num_under_10}\")\n",
    "print(f\"Number of items $10-$20: {num_10to20}\")\n",
    "print(f\"Number of items over $20: {num_over_20}\")\n",
    "\n",
    "# Calculate average price\n",
    "if item_count > 0:\n",
    "    average_price = total / item_count\n",
    "    print(f\"Average price per item: ${average_price:.2f}\")\n",
    "else:\n",
    "    print(\"No items were purchased.\")"
   ],
   "id": "eacf48c95fb6e33",
   "outputs": [],
   "execution_count": null
  },
  {
   "metadata": {},
   "cell_type": "markdown",
   "source": [
    "### Exercise 3 - DataFrame Creation and Data Manipulation\n",
    "This exercise demonstrates how to create DataFrames from lists using the zip function and pandas library."
   ],
   "id": "773961d919793716"
  },
  {
   "metadata": {},
   "cell_type": "code",
   "source": [
    "import pandas as pd\n",
    "\n",
    "# List1\n",
    "Name = ['John', 'Peter', 'David', 'Tang', 'Xin']\n",
    "\n",
    "# List2\n",
    "Age = [55, 30, 26, 22, 35]\n",
    "\n",
    "# Use zip() function to merge two lists into a list of tuples\n",
    "zipped_data = list(zip(Name, Age))\n",
    "print(\"Zipped data (list of tuples):\")\n",
    "print(zipped_data)\n",
    "\n",
    "# Assign tuple data to variable\n",
    "data_tuples = zipped_data\n",
    "\n",
    "# Convert list of tuples into pandas DataFrame\n",
    "df = pd.DataFrame(data_tuples, columns=['Name', 'Age'])\n",
    "\n",
    "# Print DataFrame data\n",
    "print(\"\\nDataFrame:\")\n",
    "print(df)\n",
    "\n",
    "# Additional information: display basic DataFrame information\n",
    "print(\"\\nDataFrame Info:\")\n",
    "print(f\"Shape: {df.shape}\")\n",
    "print(f\"Columns: {list(df.columns)}\")\n",
    "print(f\"Data types:\")\n",
    "print(df.dtypes)\n"
   ],
   "id": "a2c0f63e79127931",
   "outputs": [],
   "execution_count": null
  },
  {
   "metadata": {},
   "cell_type": "markdown",
   "source": [
    "### Exercise 4 - Function Definition and Boolean Logic\n",
    "This exercise demonstrates function creation and boolean operations for determining even/odd numbers."
   ],
   "id": "8e3c4200ced90549"
  },
  {
   "metadata": {},
   "cell_type": "code",
   "source": [
    "def function1(number):\n",
    "    if(number % 2 == 0):\n",
    "        return True\n",
    "    else:\n",
    "        return False\n",
    "\n",
    "n = 3\n",
    "if function1(n):\n",
    "    print(f\"{n} is even\")\n",
    "else:\n",
    "    print(f\"{n} is odd\")"
   ],
   "id": "19627cd4f44861f1",
   "outputs": [],
   "execution_count": null
  },
  {
   "metadata": {},
   "cell_type": "markdown",
   "source": [
    "### Exercise 5 - Data Visualization with Scatter Plots\n",
    "This exercise demonstrates creating scatter plots using matplotlib to visualize the relationship between coursework and exam scores."
   ],
   "id": "8bdb5e4c0c0db047"
  },
  {
   "metadata": {},
   "cell_type": "code",
   "source": [
    "import matplotlib.pyplot as plt\n",
    "\n",
    "course = [54, 67, 40, 82, 72, 43, 33, 73, 53, 80, 42, 63, 88, 29, 55, 60]\n",
    "exam = [59, 61, 37, 78, 67, 36, 40, 68, 48, 59, 36, 60, 91, 25, 54, 64]\n",
    "\n",
    "fig, ax = plt.subplots(figsize=(10, 6))\n",
    "plt.scatter(course, exam, color='blue', label='Students')\n",
    "plt.title('Coursework vs Exam Results')\n",
    "plt.xlabel('Coursework Marks')\n",
    "plt.ylabel('Exam Marks')\n",
    "plt.legend()"
   ],
   "id": "61ef356f31f41930",
   "outputs": [],
   "execution_count": null
  },
  {
   "metadata": {},
   "cell_type": "markdown",
   "source": [
    "### Exercise 6 - Mathematical Function Plotting\n",
    "This exercise demonstrates plotting mathematical functions using numpy and matplotlib libraries."
   ],
   "id": "48bc00e0b96712ee"
  },
  {
   "metadata": {},
   "cell_type": "code",
   "source": [
    "import numpy as np\n",
    "fig, ax = plt.subplots(figsize=(10, 6))\n",
    "\n",
    "x = np.linspace(-15, 15, 100)\n",
    "y = 1.5 * x**2 + 5 * x + 3\n",
    "plt.plot(x, y, 'k--')  # 使用黑色虚线\n",
    "plt.title('Plot of y = 1.5x^2 + 5x + 3')\n",
    "plt.xlabel('x')\n",
    "plt.ylabel('y')\n",
    "plt.grid(True)\n",
    "plt.show()"
   ],
   "id": "274471787114c640",
   "outputs": [],
   "execution_count": null
  }
 ],
 "metadata": {
  "kernelspec": {
   "display_name": "Python 3 (ipykernel)",
   "language": "python",
   "name": "python3"
  },
  "language_info": {
   "codemirror_mode": {
    "name": "ipython",
    "version": 3
   },
   "file_extension": ".py",
   "mimetype": "text/x-python",
   "name": "python",
   "nbconvert_exporter": "python",
   "pygments_lexer": "ipython3",
   "version": "3.12.11"
  }
 },
 "nbformat": 4,
 "nbformat_minor": 5
}

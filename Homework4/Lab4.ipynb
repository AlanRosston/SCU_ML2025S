{
 "cells": [
  {
   "cell_type": "markdown",
   "metadata": {},
   "source": [
    "## Lab 4 (Classification part 2)\n",
    "\n",
    "\n",
    "1. Read the Cancer dataset, which is available within DataLab4.zip, into a NumPy array.\n",
    "\n",
    "2. Using Scikit Learn build a basic kNN classifier model and for this dataset (start with k=1 to 100, and then adjut the upper k value to see details) and assess its classification accuracy.\n",
    "\n",
    "3. Use confusion matrix to assess the classification performance, display the results.\n",
    "\n",
    "4. Use AUC to assess the classification performance, plot the ROC.\n",
    "\n",
    "5. Next contrast the performance with other classification models. For example, SVM and Naïve Bayes \n"
   ]
  },
  {
   "cell_type": "markdown",
   "metadata": {},
   "source": []
  }
 ],
 "metadata": {
  "kernelspec": {
   "display_name": "Python [conda env:base] *",
   "language": "python",
   "name": "conda-base-py"
  },
  "language_info": {
   "codemirror_mode": {
    "name": "ipython",
    "version": 3
   },
   "file_extension": ".py",
   "mimetype": "text/x-python",
   "name": "python",
   "nbconvert_exporter": "python",
   "pygments_lexer": "ipython3",
   "version": "3.11.5"
  }
 },
 "nbformat": 4,
 "nbformat_minor": 4
}

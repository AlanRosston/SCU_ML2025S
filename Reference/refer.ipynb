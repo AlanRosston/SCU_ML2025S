{
 "cells": [
  {
   "metadata": {},
   "cell_type": "markdown",
   "source": [
    "# Part 1: Introduction to the Data Domain and the Data Exploration Report\n",
    "## 1.1 数据集介绍\n",
    "\n",
    "数据来源[Adult Income](https://www.kaggle.com/datasets/wenruliu/adult-income-dataset)\n",
    "\n",
    "### 1.1.1 数据来源与背景\n",
    "\n",
    "### 1.1.2 数据基本介绍\n",
    "\n",
    "## 1.2 探索性数据分析\n",
    "### 1.2.1 单变量分析\n",
    "*此处绘制变量箱线图等*\n",
    "### 1.2.2 多变量分析\n",
    "*此处绘制热力图和散点图矩阵等*\n",
    "### 1.2.3 特征分析\n",
    "*此处对特征重要性分析, 或者考虑PCA降维可视化*"
   ],
   "id": "1cf19626434e8bf6"
  },
  {
   "metadata": {},
   "cell_type": "markdown",
   "source": [
    "# Part 2: Practical Skills Assessment: Data Analytics Process\n",
    "## 2.1 数据预处理\n",
    "### 2.1.1 缺失值检测、异常值检测与数据类型转换\n",
    "*此处检查数据集是否存在缺失值(P1中已寻找)和异常值(从P1的箱线图考虑)并处理, 然后对分类数据(有序列的分类和无序列的分类)进行处理*\n",
    "### 2.1.2 特征工程\n",
    "*此处根据P1的特征重要性选择特征, 然后进行标准化(或其他特征缩放), 最后编码分类变量(one-hot)*\n",
    "### 2.1.3 模型构建\n",
    "*选择模型并训练(可以考虑对比模型)*\n",
    "### 2.1.4 模型评估\n",
    "*此处用k-fold交叉检验进行评估, 指标包括accuracy, recall, F1-score等*\n",
    "*此处绘制混淆矩阵和ROC曲线(若分类问题)*\n",
    "### 2.1.5 结果可视化与结果分析\n",
    "*绘制分类效果图像, 混淆矩阵热力图等*"
   ],
   "id": "f4c1cad162c53c5c"
  },
  {
   "metadata": {},
   "cell_type": "markdown",
   "source": [
    "# Part 3: Summary\n",
    "## 3.1 实验设计思路总结\n",
    "\n",
    "## 3.2 实验结果总结\n",
    "\n",
    "## 3.3 缺陷与改进"
   ],
   "id": "4f53a204dc1a73a8"
  },
  {
   "metadata": {},
   "cell_type": "markdown",
   "source": [
    "# Part 4: References\n",
    "本文参考了以下文献和资料：\n",
    "1. [Adult Income Dataset](https://www.kaggle.com/datasets/wenruliu/adult-income-dataset)\n",
    "2. [An Introduction to Statistical Learning](https://www.statlearning.com/)"
   ],
   "id": "904b68c26953d603"
  }
 ],
 "metadata": {
  "kernelspec": {
   "display_name": "Python 3",
   "language": "python",
   "name": "python3"
  },
  "language_info": {
   "codemirror_mode": {
    "name": "ipython",
    "version": 2
   },
   "file_extension": ".py",
   "mimetype": "text/x-python",
   "name": "python",
   "nbconvert_exporter": "python",
   "pygments_lexer": "ipython2",
   "version": "2.7.6"
  }
 },
 "nbformat": 4,
 "nbformat_minor": 5
}
